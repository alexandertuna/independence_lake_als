{
 "cells": [
  {
   "cell_type": "code",
   "execution_count": null,
   "id": "e73f6705-3839-4b40-849e-524e1b50d322",
   "metadata": {},
   "outputs": [],
   "source": [
    "import laspy\n",
    "import numpy as np\n",
    "import pyvista as pv\n",
    "import matplotlib.pyplot as plt\n",
    "from sklearn.cluster import DBSCAN"
   ]
  },
  {
   "cell_type": "code",
   "execution_count": null,
   "id": "8fbacdbd-b35c-4442-8b88-9becd3d02b31",
   "metadata": {},
   "outputs": [],
   "source": [
    "filename = \"als/USGS_LPC_CA_SierraNevada_B22_10SGJ3270.laz\""
   ]
  },
  {
   "cell_type": "code",
   "execution_count": null,
   "id": "7cb88465-b856-4147-aa78-694bb9a32c62",
   "metadata": {},
   "outputs": [],
   "source": [
    "# Read one file into memory\n",
    "with laspy.open(filename) as fi:\n",
    "    las = fi.read()\n",
    "    print(las)"
   ]
  },
  {
   "cell_type": "code",
   "execution_count": null,
   "id": "71568511-dd72-49cd-8d0b-128b703fcc1b",
   "metadata": {},
   "outputs": [],
   "source": [
    "# Grab a subset of data\n",
    "# 2_000 points gives 3ish trees\n",
    "# 20_000 gives 30ish trees\n",
    "n_points = 2_000\n",
    "\n",
    "x = las.x[:n_points]\n",
    "y = las.y[:n_points]\n",
    "z = las.z[:n_points]"
   ]
  },
  {
   "cell_type": "code",
   "execution_count": null,
   "id": "676bea82-241e-47c9-ac49-8ba4508d5859",
   "metadata": {},
   "outputs": [],
   "source": [
    "print(f\"Making point cloud of {len(x)} points\")\n",
    "points = np.vstack((x, y, z)).transpose()\n",
    "point_cloud = pv.PolyData(points)"
   ]
  },
  {
   "cell_type": "code",
   "execution_count": null,
   "id": "ca047dbb-baed-48c5-a4be-b36214cd48a9",
   "metadata": {},
   "outputs": [],
   "source": [
    "# Plot with PyVista\n",
    "# Open the interactive 3D image to convince yourself its 3-ish trees\n",
    "print(f\"Plotting point cloud\")\n",
    "plotter = pv.Plotter()\n",
    "plotter.add_mesh(point_cloud, point_size=1, render_points_as_spheres=True)\n",
    "plotter.show()"
   ]
  },
  {
   "cell_type": "code",
   "execution_count": null,
   "id": "c03ba157-4f41-4e22-861f-1c36fb8af30c",
   "metadata": {},
   "outputs": [],
   "source": [
    "# Make a scatter plot of points in xy (no z)\n",
    "fig, ax = plt.subplots(figsize=(6, 6))\n",
    "scatter = ax.scatter(x - min(x), y - min(y), c=z, s=0.1, cmap='viridis')\n",
    "\n",
    "# Add color bar and labels\n",
    "colorbar = fig.colorbar(scatter, ax=ax, label='Z')\n",
    "ax.set_xlabel('X')\n",
    "ax.set_ylabel('Y')\n",
    "ax.set_title('2D scatter plot of data')\n",
    "\n",
    "# Display the plot\n",
    "plt.show()"
   ]
  },
  {
   "cell_type": "code",
   "execution_count": null,
   "id": "cdc7033b-e46f-499b-8bf8-b687b261fae3",
   "metadata": {},
   "outputs": [],
   "source": [
    "# Make a 2D histogram of the points in xy\n",
    "# The density of points gives a hint about how many trees exist\n",
    "fig, ax = plt.subplots(figsize=(6, 6))\n",
    "bins = (70, 70)\n",
    "hist, x_edges, y_edges, cax = ax.hist2d(x - min(x), y - min(y), cmap='afmhot', bins=bins)\n",
    "colorbar = fig.colorbar(cax, ax=ax, label='Number of points')\n",
    "ax.set_xlabel('X [m?]')\n",
    "ax.set_ylabel('Y [m?]')\n",
    "ax.set_title('Histogram of points in xy')\n",
    "plt.show()"
   ]
  },
  {
   "cell_type": "code",
   "execution_count": null,
   "id": "0766335c-b9c2-483e-8137-feca8b3dd6b0",
   "metadata": {},
   "outputs": [],
   "source": [
    "# Run DBSCAN on the points in xy\n",
    "# The DBSCAN parameters eps, min_samples were \"optimized\" by hand\n",
    "features = np.vstack((\n",
    "    x - min(x),\n",
    "    y - min(y),\n",
    ")).transpose()\n",
    "eps = 1\n",
    "min_samples = 20\n",
    "dbscan = DBSCAN(eps=eps, min_samples=min_samples)\n",
    "labels = dbscan.fit_predict(features)\n",
    "\n",
    "# Get unique labels, too\n",
    "unique_labels = np.unique(labels)\n",
    "print(f\"Unique labels:\", unique_labels)"
   ]
  },
  {
   "cell_type": "code",
   "execution_count": null,
   "id": "b7be5dfb-0dba-461a-ba9e-23e6166db07a",
   "metadata": {},
   "outputs": [],
   "source": [
    "# Plot the DBSCAN clustering results\n",
    "fig, ax = plt.subplots(figsize=(6, 6))\n",
    "\n",
    "# Make one scatterplot per cluster\n",
    "for label in unique_labels:\n",
    "    no_cluster = label == -1\n",
    "    cond = labels == label\n",
    "    text = \"No cluster\" if no_cluster else f\"Cluster {label}\"\n",
    "    color = \"lightgrey\" if no_cluster else None\n",
    "    scatter = ax.scatter(features[:, 0][cond], features[:, 1][cond], c=color, s=5, label=text)\n",
    "\n",
    "# Prettify\n",
    "ax.set_xlabel('x [m?]')\n",
    "ax.set_ylabel('y [m?]')\n",
    "ax.set_title('DBSCAN clusters on 2D (xy) points')\n",
    "if len(unique_labels) < 10:\n",
    "    ax.legend()\n",
    "ax.grid()\n",
    "plt.show()"
   ]
  },
  {
   "cell_type": "code",
   "execution_count": null,
   "id": "5d8a349b-b8a2-4d7b-a5ab-ff8e6433e220",
   "metadata": {},
   "outputs": [],
   "source": [
    "# Plot the first cluster in 3D\n",
    "fig = plt.figure(figsize=(6, 6))\n",
    "ax = fig.add_subplot(projection='3d')\n",
    "\n",
    "# Plot the points\n",
    "cond = labels == 0\n",
    "sc = ax.scatter(x[cond], y[cond], z[cond], marker='o')\n",
    "\n",
    "# Add colorbar and labels\n",
    "# fig.colorbar(sc, ax=ax, label='Z Value')\n",
    "ax.set_xlabel('X')\n",
    "ax.set_ylabel('Y')\n",
    "ax.set_zlabel('Z')\n",
    "ax.set_title('3D Scatter Plot')\n",
    "plt.show()"
   ]
  },
  {
   "cell_type": "code",
   "execution_count": null,
   "id": "638f158a-53e6-4d8b-89ec-a4b0bb95bc8b",
   "metadata": {},
   "outputs": [],
   "source": [
    "# This looks like a combination of tree points and ground points"
   ]
  },
  {
   "cell_type": "code",
   "execution_count": null,
   "id": "8d7c05b3-158b-487a-af0e-d83111c42420",
   "metadata": {},
   "outputs": [],
   "source": []
  }
 ],
 "metadata": {
  "kernelspec": {
   "display_name": "Python 3 (ipykernel)",
   "language": "python",
   "name": "python3"
  },
  "language_info": {
   "codemirror_mode": {
    "name": "ipython",
    "version": 3
   },
   "file_extension": ".py",
   "mimetype": "text/x-python",
   "name": "python",
   "nbconvert_exporter": "python",
   "pygments_lexer": "ipython3",
   "version": "3.11.10"
  }
 },
 "nbformat": 4,
 "nbformat_minor": 5
}
